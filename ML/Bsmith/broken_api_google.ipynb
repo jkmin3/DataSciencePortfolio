{
 "cells": [
  {
   "cell_type": "code",
   "execution_count": 11,
   "metadata": {},
   "outputs": [],
   "source": [
    "import requests\n",
    "import pandas as pd\n",
    "import time"
   ]
  },
  {
   "cell_type": "code",
   "execution_count": 12,
   "metadata": {},
   "outputs": [],
   "source": [
    "# Redacted\n",
    "api_key = ''\n",
    "business_id = ''\n",
    "client_id = ''\n",
    "secret = ''\n",
    "place_id = ''"
   ]
  },
  {
   "cell_type": "markdown",
   "metadata": {},
   "source": [
    "The below would only work when I did something else, but I forgot. But this is how I would've pulled from the api"
   ]
  },
  {
   "cell_type": "code",
   "execution_count": 14,
   "metadata": {},
   "outputs": [],
   "source": [
    "#Get the api for breadsmith reviews in St. Charles to json file\n",
    "url = 'https://mybusiness.googleapis.com/v4/accounts/'+business_id+'/locations/'+place_id+'/reviews?key='+api_key\n",
    "reviews = requests.get(url).json()"
   ]
  },
  {
   "cell_type": "code",
   "execution_count": 15,
   "metadata": {},
   "outputs": [
    {
     "data": {
      "text/plain": [
       "{'error': {'code': 401,\n",
       "  'message': 'API keys are not supported by this API. Expected OAuth2 access token or other authentication credentials that assert a principal. See https://cloud.google.com/docs/authentication',\n",
       "  'status': 'UNAUTHENTICATED',\n",
       "  'details': [{'@type': 'type.googleapis.com/google.rpc.ErrorInfo',\n",
       "    'reason': 'CREDENTIALS_MISSING',\n",
       "    'domain': 'googleapis.com',\n",
       "    'metadata': {'service': 'mybusiness.googleapis.com',\n",
       "     'method': 'google.mybusiness.v4.Reviews.ListReviews'}}]}}"
      ]
     },
     "execution_count": 15,
     "metadata": {},
     "output_type": "execute_result"
    }
   ],
   "source": [
    "reviews"
   ]
  },
  {
   "cell_type": "code",
   "execution_count": 6,
   "metadata": {},
   "outputs": [
    {
     "ename": "KeyError",
     "evalue": "'result'",
     "output_type": "error",
     "traceback": [
      "\u001b[1;31m---------------------------------------------------------------------------\u001b[0m",
      "\u001b[1;31mKeyError\u001b[0m                                  Traceback (most recent call last)",
      "\u001b[1;32mc:\\Users\\ijosh\\PycharmProjects\\Internships\\Breadsmith Reviews\\reviews.ipynb Cell 5'\u001b[0m in \u001b[0;36m<module>\u001b[1;34m\u001b[0m\n\u001b[0;32m      <a href='vscode-notebook-cell:/c%3A/Users/ijosh/PycharmProjects/Internships/Breadsmith%20Reviews/reviews.ipynb#ch0000007?line=0'>1</a>\u001b[0m \u001b[39m# This is how to call all the things I want from each review\u001b[39;00m\n\u001b[1;32m----> <a href='vscode-notebook-cell:/c%3A/Users/ijosh/PycharmProjects/Internships/Breadsmith%20Reviews/reviews.ipynb#ch0000007?line=1'>2</a>\u001b[0m name \u001b[39m=\u001b[39m reviews[\u001b[39m'\u001b[39;49m\u001b[39mresult\u001b[39;49m\u001b[39m'\u001b[39;49m][\u001b[39m'\u001b[39m\u001b[39mreviews\u001b[39m\u001b[39m'\u001b[39m][\u001b[39m0\u001b[39m][\u001b[39m'\u001b[39m\u001b[39mauthor_name\u001b[39m\u001b[39m'\u001b[39m]\n\u001b[0;32m      <a href='vscode-notebook-cell:/c%3A/Users/ijosh/PycharmProjects/Internships/Breadsmith%20Reviews/reviews.ipynb#ch0000007?line=2'>3</a>\u001b[0m rating \u001b[39m=\u001b[39m reviews[\u001b[39m'\u001b[39m\u001b[39mresult\u001b[39m\u001b[39m'\u001b[39m][\u001b[39m'\u001b[39m\u001b[39mreviews\u001b[39m\u001b[39m'\u001b[39m][\u001b[39m0\u001b[39m][\u001b[39m'\u001b[39m\u001b[39mrating\u001b[39m\u001b[39m'\u001b[39m]\n\u001b[0;32m      <a href='vscode-notebook-cell:/c%3A/Users/ijosh/PycharmProjects/Internships/Breadsmith%20Reviews/reviews.ipynb#ch0000007?line=3'>4</a>\u001b[0m text \u001b[39m=\u001b[39m reviews[\u001b[39m'\u001b[39m\u001b[39mresult\u001b[39m\u001b[39m'\u001b[39m][\u001b[39m'\u001b[39m\u001b[39mreviews\u001b[39m\u001b[39m'\u001b[39m][\u001b[39m0\u001b[39m][\u001b[39m'\u001b[39m\u001b[39mtext\u001b[39m\u001b[39m'\u001b[39m]\n",
      "\u001b[1;31mKeyError\u001b[0m: 'result'"
     ]
    }
   ],
   "source": [
    "# This is how to call all the things I want from each review\n",
    "name = reviews['result']['reviews'][0]['author_name']\n",
    "rating = reviews['result']['reviews'][0]['rating']\n",
    "text = reviews['result']['reviews'][0]['text']\n",
    "relative_time = reviews['result']['reviews'][0]['relative_time_description']"
   ]
  },
  {
   "cell_type": "code",
   "execution_count": 7,
   "metadata": {},
   "outputs": [
    {
     "ename": "NameError",
     "evalue": "name 'name' is not defined",
     "output_type": "error",
     "traceback": [
      "\u001b[1;31m---------------------------------------------------------------------------\u001b[0m",
      "\u001b[1;31mNameError\u001b[0m                                 Traceback (most recent call last)",
      "\u001b[1;32mc:\\Users\\ijosh\\PycharmProjects\\Internships\\Breadsmith Reviews\\reviews.ipynb Cell 6'\u001b[0m in \u001b[0;36m<module>\u001b[1;34m\u001b[0m\n\u001b[1;32m----> <a href='vscode-notebook-cell:/c%3A/Users/ijosh/PycharmProjects/Internships/Breadsmith%20Reviews/reviews.ipynb#ch0000008?line=0'>1</a>\u001b[0m \u001b[39mprint\u001b[39m(name, rating, text, relative_time)\n",
      "\u001b[1;31mNameError\u001b[0m: name 'name' is not defined"
     ]
    }
   ],
   "source": [
    "print(name, rating, text, relative_time)"
   ]
  },
  {
   "cell_type": "code",
   "execution_count": 8,
   "metadata": {},
   "outputs": [],
   "source": [
    "#Build Data Frame\n",
    "df = pd.DataFrame(columns=['Name', 'Rating', 'Review', 'Relative Time Description'])"
   ]
  },
  {
   "cell_type": "code",
   "execution_count": 9,
   "metadata": {},
   "outputs": [
    {
     "ename": "KeyError",
     "evalue": "'result'",
     "output_type": "error",
     "traceback": [
      "\u001b[1;31m---------------------------------------------------------------------------\u001b[0m",
      "\u001b[1;31mKeyError\u001b[0m                                  Traceback (most recent call last)",
      "\u001b[1;32mc:\\Users\\ijosh\\PycharmProjects\\Internships\\Breadsmith Reviews\\reviews.ipynb Cell 8'\u001b[0m in \u001b[0;36m<module>\u001b[1;34m\u001b[0m\n\u001b[1;32m----> <a href='vscode-notebook-cell:/c%3A/Users/ijosh/PycharmProjects/Internships/Breadsmith%20Reviews/reviews.ipynb#ch0000010?line=0'>1</a>\u001b[0m \u001b[39mfor\u001b[39;00m review \u001b[39min\u001b[39;00m reviews[\u001b[39m'\u001b[39;49m\u001b[39mresult\u001b[39;49m\u001b[39m'\u001b[39;49m][\u001b[39m'\u001b[39m\u001b[39mreviews\u001b[39m\u001b[39m'\u001b[39m]:\n\u001b[0;32m      <a href='vscode-notebook-cell:/c%3A/Users/ijosh/PycharmProjects/Internships/Breadsmith%20Reviews/reviews.ipynb#ch0000010?line=1'>2</a>\u001b[0m     \u001b[39m# Collecting all the data\u001b[39;00m\n\u001b[0;32m      <a href='vscode-notebook-cell:/c%3A/Users/ijosh/PycharmProjects/Internships/Breadsmith%20Reviews/reviews.ipynb#ch0000010?line=2'>3</a>\u001b[0m     name \u001b[39m=\u001b[39m review[\u001b[39m'\u001b[39m\u001b[39mauthor_name\u001b[39m\u001b[39m'\u001b[39m]\n\u001b[0;32m      <a href='vscode-notebook-cell:/c%3A/Users/ijosh/PycharmProjects/Internships/Breadsmith%20Reviews/reviews.ipynb#ch0000010?line=3'>4</a>\u001b[0m     rating \u001b[39m=\u001b[39m review[\u001b[39m'\u001b[39m\u001b[39mrating\u001b[39m\u001b[39m'\u001b[39m]\n",
      "\u001b[1;31mKeyError\u001b[0m: 'result'"
     ]
    }
   ],
   "source": [
    "for review in reviews['result']['reviews']:\n",
    "    # Collecting all the data\n",
    "    name = review['author_name']\n",
    "    rating = review['rating']\n",
    "    text = review['text']\n",
    "    relative_time = review['relative_time_description']\n",
    "    \n",
    "    # Storing Data into Dataframe\n",
    "    df = df.append({'Name':name, 'Rating':rating, 'Review':text, \"Relative Time Description\":relative_time},ignore_index=True)\n"
   ]
  },
  {
   "cell_type": "code",
   "execution_count": 10,
   "metadata": {},
   "outputs": [
    {
     "data": {
      "text/html": [
       "<div>\n",
       "<style scoped>\n",
       "    .dataframe tbody tr th:only-of-type {\n",
       "        vertical-align: middle;\n",
       "    }\n",
       "\n",
       "    .dataframe tbody tr th {\n",
       "        vertical-align: top;\n",
       "    }\n",
       "\n",
       "    .dataframe thead th {\n",
       "        text-align: right;\n",
       "    }\n",
       "</style>\n",
       "<table border=\"1\" class=\"dataframe\">\n",
       "  <thead>\n",
       "    <tr style=\"text-align: right;\">\n",
       "      <th></th>\n",
       "      <th>Name</th>\n",
       "      <th>Rating</th>\n",
       "      <th>Review</th>\n",
       "      <th>Relative Time Description</th>\n",
       "    </tr>\n",
       "  </thead>\n",
       "  <tbody>\n",
       "  </tbody>\n",
       "</table>\n",
       "</div>"
      ],
      "text/plain": [
       "Empty DataFrame\n",
       "Columns: [Name, Rating, Review, Relative Time Description]\n",
       "Index: []"
      ]
     },
     "execution_count": 10,
     "metadata": {},
     "output_type": "execute_result"
    }
   ],
   "source": [
    "df"
   ]
  },
  {
   "cell_type": "code",
   "execution_count": null,
   "metadata": {},
   "outputs": [],
   "source": []
  }
 ],
 "metadata": {
  "interpreter": {
   "hash": "28596858067060ee176f7bab50a17c769bfd8a96306468e7ae0695529617abaf"
  },
  "kernelspec": {
   "display_name": "Python 3.8.11 ('base')",
   "language": "python",
   "name": "python3"
  },
  "language_info": {
   "codemirror_mode": {
    "name": "ipython",
    "version": 3
   },
   "file_extension": ".py",
   "mimetype": "text/x-python",
   "name": "python",
   "nbconvert_exporter": "python",
   "pygments_lexer": "ipython3",
   "version": "3.8.11"
  },
  "orig_nbformat": 4
 },
 "nbformat": 4,
 "nbformat_minor": 2
}
