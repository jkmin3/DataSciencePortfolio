{
 "cells": [
  {
   "cell_type": "code",
   "execution_count": 1,
   "metadata": {},
   "outputs": [],
   "source": [
    "import requests\n",
    "import pandas as pd\n",
    "from riotwatcher import LolWatcher, ApiError\n",
    "import mysql.connector\n",
    "import time\n",
    "import ast"
   ]
  },
  {
   "cell_type": "code",
   "execution_count": 2,
   "metadata": {},
   "outputs": [],
   "source": [
    "api_key = 'RGAPI-da2b720d-229b-4885-9826-f62fd14b2801'\n",
    "watcher = LolWatcher(api_key)\n",
    "na = 'na1'"
   ]
  },
  {
   "cell_type": "code",
   "execution_count": 3,
   "metadata": {},
   "outputs": [],
   "source": [
    "database_name = 'league-database'\n",
    "username = 'admin'\n",
    "password = 'CowDog019283'\n",
    "endpoint = 'league-database.cgdkdqtwgxcv.us-east-2.rds.amazonaws.com'\n",
    "port = 3306\n",
    "db_name = 'leaguedb'"
   ]
  },
  {
   "cell_type": "code",
   "execution_count": 4,
   "metadata": {},
   "outputs": [],
   "source": [
    "connection = mysql.connector.connect(host=endpoint, database='leaguedb', user=username, password=password)\n",
    "cursor = connection.cursor()\n",
    "query = \"SELECT summonerid FROM summoners\"\n",
    "cursor.execute(query)\n",
    "\n",
    "ids = []\n",
    "for id in cursor:\n",
    "    ids.append(id[0])\n",
    "\n",
    "cursor.close()\n",
    "connection.close()"
   ]
  },
  {
   "cell_type": "code",
   "execution_count": 5,
   "metadata": {},
   "outputs": [
    {
     "data": {
      "text/plain": [
       "9306"
      ]
     },
     "execution_count": 5,
     "metadata": {},
     "output_type": "execute_result"
    }
   ],
   "source": [
    "len(ids)"
   ]
  },
  {
   "cell_type": "code",
   "execution_count": 6,
   "metadata": {},
   "outputs": [],
   "source": [
    "matches = []\n",
    "for id in ids[:1500]:\n",
    "    if id != None:\n",
    "        try:\n",
    "            matches.append(watcher.match.matchlist_by_puuid(na, id)[:10])\n",
    "        except ApiError as err:\n",
    "            if err.response.status_code == 429:\n",
    "                print('We should retry in {} seconds.'.format(err.response.headers['Retry-After']))\n",
    "                print('this retry-after is handled by default by the RiotWatcher library')\n",
    "                print('future requests wait until the retry-after time passes')\n",
    "            elif err.response.status_code == 404:\n",
    "                print('Not Found.')\n",
    "            elif err.response.status_code == 403:\n",
    "                print('Forbidden')\n",
    "            else:\n",
    "                raise"
   ]
  },
  {
   "cell_type": "code",
   "execution_count": 7,
   "metadata": {},
   "outputs": [],
   "source": [
    "for id in ids[1500:3000]:\n",
    "    if id != None:\n",
    "        try:\n",
    "            matches.append(watcher.match.matchlist_by_puuid(na, id)[:10])\n",
    "        except ApiError as err:\n",
    "            if err.response.status_code == 429:\n",
    "                print('We should retry in {} seconds.'.format(err.response.headers['Retry-After']))\n",
    "                print('this retry-after is handled by default by the RiotWatcher library')\n",
    "                print('future requests wait until the retry-after time passes')\n",
    "            elif err.response.status_code == 404:\n",
    "                print('Not Found.')\n",
    "            elif err.response.status_code == 403:\n",
    "                print('Forbidden')\n",
    "            else:\n",
    "                raise"
   ]
  },
  {
   "cell_type": "code",
   "execution_count": 13,
   "metadata": {},
   "outputs": [],
   "source": [
    "for id in ids[5400:6000]:\n",
    "    if id != None:\n",
    "        try:\n",
    "            matches.append(watcher.match.matchlist_by_puuid(na, id)[:10])\n",
    "        except ApiError as err:\n",
    "            if err.response.status_code == 429:\n",
    "                print('We should retry in {} seconds.'.format(err.response.headers['Retry-After']))\n",
    "                print('this retry-after is handled by default by the RiotWatcher library')\n",
    "                print('future requests wait until the retry-after time passes')\n",
    "            elif err.response.status_code == 404:\n",
    "                print('Not Found.')\n",
    "            elif err.response.status_code == 403:\n",
    "                print('Forbidden')\n",
    "            else:\n",
    "                raise"
   ]
  },
  {
   "cell_type": "code",
   "execution_count": 14,
   "metadata": {},
   "outputs": [],
   "source": [
    "for id in ids[6000:7500]:\n",
    "    if id != None:\n",
    "        try:\n",
    "            matches.append(watcher.match.matchlist_by_puuid(na, id)[:10])\n",
    "        except ApiError as err:\n",
    "            if err.response.status_code == 429:\n",
    "                print('We should retry in {} seconds.'.format(err.response.headers['Retry-After']))\n",
    "                print('this retry-after is handled by default by the RiotWatcher library')\n",
    "                print('future requests wait until the retry-after time passes')\n",
    "            elif err.response.status_code == 404:\n",
    "                print('Not Found.')\n",
    "            elif err.response.status_code == 403:\n",
    "                print('Forbidden')\n",
    "            else:\n",
    "                raise"
   ]
  },
  {
   "cell_type": "code",
   "execution_count": 19,
   "metadata": {},
   "outputs": [],
   "source": [
    "# Definitely could have made a function for this, but I just turned off my brain and did this\n",
    "for id in ids[7500:]:\n",
    "    if id != None:\n",
    "        try:\n",
    "            matches.append(watcher.match.matchlist_by_puuid(na, id)[:10])\n",
    "        except ApiError as err:\n",
    "            if err.response.status_code == 429:\n",
    "                print('We should retry in {} seconds.'.format(err.response.headers['Retry-After']))\n",
    "                print('this retry-after is handled by default by the RiotWatcher library')\n",
    "                print('future requests wait until the retry-after time passes')\n",
    "            elif err.response.status_code == 404:\n",
    "                print('Not Found.')\n",
    "            elif err.response.status_code == 403:\n",
    "                print('Forbidden')\n",
    "            else:\n",
    "                raise"
   ]
  },
  {
   "cell_type": "code",
   "execution_count": null,
   "metadata": {},
   "outputs": [],
   "source": [
    "mat = []\n",
    "for match in matches:\n",
    "    for id in match:\n",
    "        mat.append(id)"
   ]
  },
  {
   "cell_type": "code",
   "execution_count": 21,
   "metadata": {},
   "outputs": [
    {
     "data": {
      "text/plain": [
       "76407"
      ]
     },
     "execution_count": 21,
     "metadata": {},
     "output_type": "execute_result"
    }
   ],
   "source": [
    "len(mat)"
   ]
  },
  {
   "cell_type": "code",
   "execution_count": 4,
   "metadata": {},
   "outputs": [
    {
     "data": {
      "text/plain": [
       "76407"
      ]
     },
     "execution_count": 4,
     "metadata": {},
     "output_type": "execute_result"
    }
   ],
   "source": [
    "match_df = pd.read_csv('match_ids.csv')\n",
    "mat = match_df['ids']\n",
    "len(mat)"
   ]
  },
  {
   "cell_type": "code",
   "execution_count": 26,
   "metadata": {},
   "outputs": [],
   "source": [
    "connection = mysql.connector.connect(host=endpoint, database='leaguedb', user=username, password=password)\n",
    "cursor = connection.cursor()\n",
    "\n",
    "query = '''CREATE TABLE matches(\n",
    "        matchid VARCHAR(40),\n",
    "        info TEXT\n",
    "    )'''\n",
    "\n",
    "cursor.execute(query)\n",
    "cursor.close()\n",
    "connection.close()"
   ]
  },
  {
   "cell_type": "code",
   "execution_count": 8,
   "metadata": {},
   "outputs": [],
   "source": [
    "# These are the different types of function I have gone through, but the last one is best\n",
    "def get_info(n, m):\n",
    "    game_info = []\n",
    "    for id in mat[n:m]:\n",
    "        game_info.append(watcher.match.by_id(na, id))\n",
    "    game_ids = [data['metadata']['matchId'] for data in game_info]\n",
    "    df = pd.DataFrame({'id':game_ids, 'info': game_info})\n",
    "    return df"
   ]
  },
  {
   "cell_type": "code",
   "execution_count": 9,
   "metadata": {},
   "outputs": [],
   "source": [
    "def make_df(startn, inc, total):\n",
    "    game_info = []\n",
    "    endn = startn\n",
    "    startn = startn - inc\n",
    "    r = total % inc\n",
    "    ran = total / inc\n",
    "    dataf = pd.DataFrame(columns=['id', 'info'])\n",
    "    try:\n",
    "        if r == 0:\n",
    "            for i in range(int(ran)):\n",
    "                endn += inc\n",
    "                startn += inc\n",
    "                print(startn, endn)\n",
    "                for id in mat[startn:endn]:\n",
    "                    game_info.append(watcher.match.by_id(na, id))\n",
    "                    time.sleep(1)\n",
    "                time.sleep(45)\n",
    "            game_ids = [data['metadata']['matchId'] for data in game_info]\n",
    "            dataf['id'] = game_ids\n",
    "            dataf['info'] = game_info \n",
    "        else:\n",
    "            print('Total number divided by the increment has to be integer, not float')\n",
    "    except ApiError as err:\n",
    "        if err.response.status_code == 503:\n",
    "            game_ids = [data['metadata']['matchId'] for data in game_info]\n",
    "            dataf['id'] = game_ids\n",
    "            dataf['info'] = game_info \n",
    "        else:\n",
    "            raise\n",
    "    return dataf"
   ]
  },
  {
   "cell_type": "code",
   "execution_count": 5,
   "metadata": {},
   "outputs": [],
   "source": [
    "# This function worked best because even when I got an error, \n",
    "# my data saved and it would time out most of the time so all of the data I wanted\n",
    "# This is why I used a recursive function\n",
    "def force(start, end):\n",
    "    game_info = []\n",
    "    force_df = pd.DataFrame(columns=['id', 'info'])\n",
    "    try:\n",
    "        for id in mat[start:end]:\n",
    "            game_info.append(watcher.match.by_id(na, id))\n",
    "        game_ids = [data['metadata']['matchId'] for data in game_info]\n",
    "        force_df['id'] = game_ids\n",
    "        force_df['info'] = game_info \n",
    "    except ApiError as err:\n",
    "        if err.response.status_code == 503:\n",
    "            print('forcing')\n",
    "            game_ids = [data['metadata']['matchId'] for data in game_info]\n",
    "            force_df['id'] = game_ids\n",
    "            force_df['info'] = game_info \n",
    "            force_df = pd.concat([force_df, force(start + force_df.shape[0], end)])\n",
    "        else:\n",
    "            print('forcing this way')\n",
    "            game_ids = [data['metadata']['matchId'] for data in game_info]\n",
    "            force_df['id'] = game_ids\n",
    "            force_df['info'] = game_info \n",
    "            force_df = pd.concat([force_df, force(start + force_df.shape[0], end)])\n",
    "    return force_df"
   ]
  },
  {
   "cell_type": "code",
   "execution_count": 7,
   "metadata": {},
   "outputs": [],
   "source": [
    "connection = mysql.connector.connect(host=endpoint, database='leaguedb', user=username, password=password)\n",
    "cursor = connection.cursor()\n",
    "query = '''ALTER TABLE matches\n",
    "        MODIFY COLUMN info LONGTEXT'''\n",
    "cursor.execute(query)"
   ]
  },
  {
   "cell_type": "code",
   "execution_count": null,
   "metadata": {},
   "outputs": [],
   "source": [
    "query = 'DESCRIBE matches'\n",
    "cursor.execute(query)"
   ]
  },
  {
   "cell_type": "code",
   "execution_count": null,
   "metadata": {},
   "outputs": [],
   "source": [
    "one = force(0, 10000)"
   ]
  },
  {
   "cell_type": "code",
   "execution_count": null,
   "metadata": {},
   "outputs": [],
   "source": [
    "one.to_csv('one.csv')"
   ]
  },
  {
   "cell_type": "code",
   "execution_count": null,
   "metadata": {},
   "outputs": [],
   "source": [
    "two = force(10000, 20000)"
   ]
  },
  {
   "cell_type": "code",
   "execution_count": 38,
   "metadata": {},
   "outputs": [],
   "source": [
    "two.to_csv('two.csv')"
   ]
  },
  {
   "cell_type": "code",
   "execution_count": null,
   "metadata": {},
   "outputs": [],
   "source": [
    "three = force(20000, 30000)"
   ]
  },
  {
   "cell_type": "code",
   "execution_count": null,
   "metadata": {},
   "outputs": [],
   "source": [
    "three.to_csv('three.csv')"
   ]
  },
  {
   "cell_type": "code",
   "execution_count": 6,
   "metadata": {},
   "outputs": [],
   "source": [
    "four = force(30000, 40000)"
   ]
  },
  {
   "cell_type": "code",
   "execution_count": null,
   "metadata": {},
   "outputs": [],
   "source": [
    "four.to_csv('four.csv')"
   ]
  },
  {
   "cell_type": "code",
   "execution_count": 6,
   "metadata": {},
   "outputs": [
    {
     "name": "stdout",
     "output_type": "stream",
     "text": [
      "forcing\n",
      "forcing\n"
     ]
    }
   ],
   "source": [
    "five = force(40000, 50000)"
   ]
  },
  {
   "cell_type": "code",
   "execution_count": 11,
   "metadata": {},
   "outputs": [
    {
     "data": {
      "text/html": [
       "<div>\n",
       "<style scoped>\n",
       "    .dataframe tbody tr th:only-of-type {\n",
       "        vertical-align: middle;\n",
       "    }\n",
       "\n",
       "    .dataframe tbody tr th {\n",
       "        vertical-align: top;\n",
       "    }\n",
       "\n",
       "    .dataframe thead th {\n",
       "        text-align: right;\n",
       "    }\n",
       "</style>\n",
       "<table border=\"1\" class=\"dataframe\">\n",
       "  <thead>\n",
       "    <tr style=\"text-align: right;\">\n",
       "      <th></th>\n",
       "      <th>Unnamed: 0</th>\n",
       "      <th>id</th>\n",
       "      <th>info</th>\n",
       "    </tr>\n",
       "  </thead>\n",
       "  <tbody>\n",
       "    <tr>\n",
       "      <th>0</th>\n",
       "      <td>0.0</td>\n",
       "      <td>NA1_4363681956</td>\n",
       "      <td>{'metadata': {'dataVersion': '2', 'matchId': '...</td>\n",
       "    </tr>\n",
       "    <tr>\n",
       "      <th>1</th>\n",
       "      <td>1.0</td>\n",
       "      <td>NA1_4363608475</td>\n",
       "      <td>{'metadata': {'dataVersion': '2', 'matchId': '...</td>\n",
       "    </tr>\n",
       "    <tr>\n",
       "      <th>2</th>\n",
       "      <td>2.0</td>\n",
       "      <td>NA1_4363368464</td>\n",
       "      <td>{'metadata': {'dataVersion': '2', 'matchId': '...</td>\n",
       "    </tr>\n",
       "    <tr>\n",
       "      <th>3</th>\n",
       "      <td>3.0</td>\n",
       "      <td>NA1_4363371242</td>\n",
       "      <td>{'metadata': {'dataVersion': '2', 'matchId': '...</td>\n",
       "    </tr>\n",
       "    <tr>\n",
       "      <th>4</th>\n",
       "      <td>4.0</td>\n",
       "      <td>NA1_4363226492</td>\n",
       "      <td>{'metadata': {'dataVersion': '2', 'matchId': '...</td>\n",
       "    </tr>\n",
       "    <tr>\n",
       "      <th>...</th>\n",
       "      <td>...</td>\n",
       "      <td>...</td>\n",
       "      <td>...</td>\n",
       "    </tr>\n",
       "    <tr>\n",
       "      <th>6995</th>\n",
       "      <td>NaN</td>\n",
       "      <td>NA1_4365293664</td>\n",
       "      <td>{'metadata': {'dataVersion': '2', 'matchId': '...</td>\n",
       "    </tr>\n",
       "    <tr>\n",
       "      <th>6996</th>\n",
       "      <td>NaN</td>\n",
       "      <td>NA1_4365798276</td>\n",
       "      <td>{'metadata': {'dataVersion': '2', 'matchId': '...</td>\n",
       "    </tr>\n",
       "    <tr>\n",
       "      <th>6997</th>\n",
       "      <td>NaN</td>\n",
       "      <td>NA1_4364844883</td>\n",
       "      <td>{'metadata': {'dataVersion': '2', 'matchId': '...</td>\n",
       "    </tr>\n",
       "    <tr>\n",
       "      <th>6998</th>\n",
       "      <td>NaN</td>\n",
       "      <td>NA1_4364827418</td>\n",
       "      <td>{'metadata': {'dataVersion': '2', 'matchId': '...</td>\n",
       "    </tr>\n",
       "    <tr>\n",
       "      <th>6999</th>\n",
       "      <td>NaN</td>\n",
       "      <td>NA1_4363714774</td>\n",
       "      <td>{'metadata': {'dataVersion': '2', 'matchId': '...</td>\n",
       "    </tr>\n",
       "  </tbody>\n",
       "</table>\n",
       "<p>10000 rows × 3 columns</p>\n",
       "</div>"
      ],
      "text/plain": [
       "      Unnamed: 0              id  \\\n",
       "0            0.0  NA1_4363681956   \n",
       "1            1.0  NA1_4363608475   \n",
       "2            2.0  NA1_4363368464   \n",
       "3            3.0  NA1_4363371242   \n",
       "4            4.0  NA1_4363226492   \n",
       "...          ...             ...   \n",
       "6995         NaN  NA1_4365293664   \n",
       "6996         NaN  NA1_4365798276   \n",
       "6997         NaN  NA1_4364844883   \n",
       "6998         NaN  NA1_4364827418   \n",
       "6999         NaN  NA1_4363714774   \n",
       "\n",
       "                                                   info  \n",
       "0     {'metadata': {'dataVersion': '2', 'matchId': '...  \n",
       "1     {'metadata': {'dataVersion': '2', 'matchId': '...  \n",
       "2     {'metadata': {'dataVersion': '2', 'matchId': '...  \n",
       "3     {'metadata': {'dataVersion': '2', 'matchId': '...  \n",
       "4     {'metadata': {'dataVersion': '2', 'matchId': '...  \n",
       "...                                                 ...  \n",
       "6995  {'metadata': {'dataVersion': '2', 'matchId': '...  \n",
       "6996  {'metadata': {'dataVersion': '2', 'matchId': '...  \n",
       "6997  {'metadata': {'dataVersion': '2', 'matchId': '...  \n",
       "6998  {'metadata': {'dataVersion': '2', 'matchId': '...  \n",
       "6999  {'metadata': {'dataVersion': '2', 'matchId': '...  \n",
       "\n",
       "[10000 rows x 3 columns]"
      ]
     },
     "execution_count": 11,
     "metadata": {},
     "output_type": "execute_result"
    }
   ],
   "source": [
    "five"
   ]
  },
  {
   "cell_type": "code",
   "execution_count": 12,
   "metadata": {},
   "outputs": [],
   "source": [
    "five.to_csv('five.csv')"
   ]
  },
  {
   "cell_type": "code",
   "execution_count": 6,
   "metadata": {},
   "outputs": [],
   "source": [
    "six = force(50000, 60000)"
   ]
  },
  {
   "cell_type": "code",
   "execution_count": 18,
   "metadata": {},
   "outputs": [],
   "source": [
    "six.to_csv('six.csv')"
   ]
  },
  {
   "cell_type": "code",
   "execution_count": 19,
   "metadata": {},
   "outputs": [
    {
     "name": "stdout",
     "output_type": "stream",
     "text": [
      "forcing\n",
      "forcing\n"
     ]
    }
   ],
   "source": [
    "seven = force(60000, 70000)"
   ]
  },
  {
   "cell_type": "code",
   "execution_count": 12,
   "metadata": {},
   "outputs": [],
   "source": [
    "seven.to_csv('seven.csv')"
   ]
  },
  {
   "cell_type": "code",
   "execution_count": 17,
   "metadata": {},
   "outputs": [
    {
     "name": "stdout",
     "output_type": "stream",
     "text": [
      "forcing\n",
      "forcing\n",
      "forcing\n",
      "forcing\n"
     ]
    }
   ],
   "source": [
    "last = force(70000, 76407)"
   ]
  },
  {
   "cell_type": "code",
   "execution_count": 18,
   "metadata": {},
   "outputs": [],
   "source": [
    "last.to_csv('last.csv')"
   ]
  },
  {
   "cell_type": "code",
   "execution_count": 5,
   "metadata": {},
   "outputs": [],
   "source": [
    "# connection = mysql.connector.connect(host=endpoint, database='leaguedb', user=username, password=password)\n",
    "# cursor = connection.cursor()\n",
    "# query = \"DELETE FROM matches\"\n",
    "# cursor.execute(query)\n",
    "# connection.commit()\n",
    "# cursor.close()\n",
    "# connection.close()"
   ]
  },
  {
   "cell_type": "code",
   "execution_count": 8,
   "metadata": {},
   "outputs": [],
   "source": [
    "def dfToSql(df):\n",
    "    connection = mysql.connector.connect(host=endpoint, database='leaguedb', user=username, password=password)\n",
    "    cursor = connection.cursor()\n",
    "    for row in df[['id', 'info']].itertuples():\n",
    "        query = '''INSERT INTO matches(matchid, info)\n",
    "                VALUES(%s, %s)'''\n",
    "\n",
    "        add_id = (row[1], row[2])\n",
    "\n",
    "        cursor.execute(query, add_id)\n",
    "        connection.commit()\n",
    "\n",
    "    cursor.close()\n",
    "    connection.close()"
   ]
  },
  {
   "cell_type": "code",
   "execution_count": 6,
   "metadata": {},
   "outputs": [],
   "source": [
    "connection = mysql.connector.connect(host=endpoint, database='leaguedb', user=username, password=password)\n",
    "cursor = connection.cursor()\n",
    "query = '''ALTER TABLE matches\n",
    "            MODIFY COLUMN info MEDIUMTEXT'''\n",
    "cursor.execute(query)"
   ]
  },
  {
   "cell_type": "code",
   "execution_count": 7,
   "metadata": {},
   "outputs": [
    {
     "data": {
      "text/plain": [
       "[('matchid', b'varchar(40)', 'YES', bytearray(b''), None, ''),\n",
       " ('info', b'mediumtext', 'YES', bytearray(b''), None, '')]"
      ]
     },
     "execution_count": 7,
     "metadata": {},
     "output_type": "execute_result"
    }
   ],
   "source": [
    "query = 'DESCRIBE matches'\n",
    "cursor.execute(query)\n",
    "cursor.fetchall()"
   ]
  },
  {
   "cell_type": "code",
   "execution_count": 9,
   "metadata": {},
   "outputs": [],
   "source": [
    "one = pd.read_csv('one.csv')"
   ]
  },
  {
   "cell_type": "code",
   "execution_count": 10,
   "metadata": {},
   "outputs": [],
   "source": [
    "two = pd.read_csv('two.csv')"
   ]
  },
  {
   "cell_type": "code",
   "execution_count": 11,
   "metadata": {},
   "outputs": [],
   "source": [
    "three = pd.read_csv('three.csv')"
   ]
  },
  {
   "cell_type": "code",
   "execution_count": 12,
   "metadata": {},
   "outputs": [],
   "source": [
    "four = pd.read_csv('four.csv')"
   ]
  },
  {
   "cell_type": "code",
   "execution_count": 13,
   "metadata": {},
   "outputs": [],
   "source": [
    "five = pd.read_csv('five.csv')"
   ]
  },
  {
   "cell_type": "code",
   "execution_count": 14,
   "metadata": {},
   "outputs": [],
   "source": [
    "six = pd.read_csv('six.csv')"
   ]
  },
  {
   "cell_type": "code",
   "execution_count": 15,
   "metadata": {},
   "outputs": [],
   "source": [
    "seven = pd.read_csv('seven.csv')"
   ]
  },
  {
   "cell_type": "code",
   "execution_count": 16,
   "metadata": {},
   "outputs": [],
   "source": [
    "rest = pd.read_csv('last.csv')"
   ]
  },
  {
   "cell_type": "code",
   "execution_count": 17,
   "metadata": {},
   "outputs": [],
   "source": [
    "csvs = [one, two, three, four, five, six, seven, rest]"
   ]
  },
  {
   "cell_type": "code",
   "execution_count": 18,
   "metadata": {},
   "outputs": [],
   "source": [
    "for csv in csvs:\n",
    "    dfToSql(csv)"
   ]
  },
  {
   "cell_type": "code",
   "execution_count": 4,
   "metadata": {},
   "outputs": [],
   "source": [
    "connection = mysql.connector.connect(host=endpoint, database='leaguedb', user=username, password=password)\n",
    "cursor = connection.cursor()\n",
    "query = 'DELETE FROM matches'\n",
    "cursor.execute(query)\n",
    "connection.commit()"
   ]
  },
  {
   "cell_type": "code",
   "execution_count": 19,
   "metadata": {},
   "outputs": [
    {
     "name": "stderr",
     "output_type": "stream",
     "text": [
      "C:\\Users\\ijosh\\AppData\\Roaming\\Python\\Python38\\site-packages\\pandas\\io\\sql.py:758: UserWarning: pandas only support SQLAlchemy connectable(engine/connection) ordatabase string URI or sqlite3 DBAPI2 connectionother DBAPI2 objects are not tested, please consider using SQLAlchemy\n",
      "  warnings.warn(\n"
     ]
    },
    {
     "data": {
      "text/html": [
       "<div>\n",
       "<style scoped>\n",
       "    .dataframe tbody tr th:only-of-type {\n",
       "        vertical-align: middle;\n",
       "    }\n",
       "\n",
       "    .dataframe tbody tr th {\n",
       "        vertical-align: top;\n",
       "    }\n",
       "\n",
       "    .dataframe thead th {\n",
       "        text-align: right;\n",
       "    }\n",
       "</style>\n",
       "<table border=\"1\" class=\"dataframe\">\n",
       "  <thead>\n",
       "    <tr style=\"text-align: right;\">\n",
       "      <th></th>\n",
       "      <th>matchid</th>\n",
       "      <th>info</th>\n",
       "    </tr>\n",
       "  </thead>\n",
       "  <tbody>\n",
       "    <tr>\n",
       "      <th>0</th>\n",
       "      <td>NA1_4366795660</td>\n",
       "      <td>{'metadata': {'dataVersion': '2', 'matchId': '...</td>\n",
       "    </tr>\n",
       "    <tr>\n",
       "      <th>1</th>\n",
       "      <td>NA1_4366527467</td>\n",
       "      <td>{'metadata': {'dataVersion': '2', 'matchId': '...</td>\n",
       "    </tr>\n",
       "    <tr>\n",
       "      <th>2</th>\n",
       "      <td>NA1_4366533737</td>\n",
       "      <td>{'metadata': {'dataVersion': '2', 'matchId': '...</td>\n",
       "    </tr>\n",
       "    <tr>\n",
       "      <th>3</th>\n",
       "      <td>NA1_4365266709</td>\n",
       "      <td>{'metadata': {'dataVersion': '2', 'matchId': '...</td>\n",
       "    </tr>\n",
       "    <tr>\n",
       "      <th>4</th>\n",
       "      <td>NA1_4365293282</td>\n",
       "      <td>{'metadata': {'dataVersion': '2', 'matchId': '...</td>\n",
       "    </tr>\n",
       "    <tr>\n",
       "      <th>...</th>\n",
       "      <td>...</td>\n",
       "      <td>...</td>\n",
       "    </tr>\n",
       "    <tr>\n",
       "      <th>76402</th>\n",
       "      <td>NA1_4363734624</td>\n",
       "      <td>{'metadata': {'dataVersion': '2', 'matchId': '...</td>\n",
       "    </tr>\n",
       "    <tr>\n",
       "      <th>76403</th>\n",
       "      <td>NA1_4363741186</td>\n",
       "      <td>{'metadata': {'dataVersion': '2', 'matchId': '...</td>\n",
       "    </tr>\n",
       "    <tr>\n",
       "      <th>76404</th>\n",
       "      <td>NA1_4363687957</td>\n",
       "      <td>{'metadata': {'dataVersion': '2', 'matchId': '...</td>\n",
       "    </tr>\n",
       "    <tr>\n",
       "      <th>76405</th>\n",
       "      <td>NA1_4363672945</td>\n",
       "      <td>{'metadata': {'dataVersion': '2', 'matchId': '...</td>\n",
       "    </tr>\n",
       "    <tr>\n",
       "      <th>76406</th>\n",
       "      <td>NA1_4363608702</td>\n",
       "      <td>{'metadata': {'dataVersion': '2', 'matchId': '...</td>\n",
       "    </tr>\n",
       "  </tbody>\n",
       "</table>\n",
       "<p>76407 rows × 2 columns</p>\n",
       "</div>"
      ],
      "text/plain": [
       "              matchid                                               info\n",
       "0      NA1_4366795660  {'metadata': {'dataVersion': '2', 'matchId': '...\n",
       "1      NA1_4366527467  {'metadata': {'dataVersion': '2', 'matchId': '...\n",
       "2      NA1_4366533737  {'metadata': {'dataVersion': '2', 'matchId': '...\n",
       "3      NA1_4365266709  {'metadata': {'dataVersion': '2', 'matchId': '...\n",
       "4      NA1_4365293282  {'metadata': {'dataVersion': '2', 'matchId': '...\n",
       "...               ...                                                ...\n",
       "76402  NA1_4363734624  {'metadata': {'dataVersion': '2', 'matchId': '...\n",
       "76403  NA1_4363741186  {'metadata': {'dataVersion': '2', 'matchId': '...\n",
       "76404  NA1_4363687957  {'metadata': {'dataVersion': '2', 'matchId': '...\n",
       "76405  NA1_4363672945  {'metadata': {'dataVersion': '2', 'matchId': '...\n",
       "76406  NA1_4363608702  {'metadata': {'dataVersion': '2', 'matchId': '...\n",
       "\n",
       "[76407 rows x 2 columns]"
      ]
     },
     "execution_count": 19,
     "metadata": {},
     "output_type": "execute_result"
    }
   ],
   "source": [
    "# Taking all the csvs and putting it into one table in AWS\n",
    "# I didn't have to make the csvs and I could've just done this with the variables, but since my computer could have crashed, I didn't take the risk\n",
    "# The risk was that the code would take a while to run and I would lose all the data\n",
    "connection = mysql.connector.connect(host=endpoint, database='leaguedb', user=username, password=password)\n",
    "cursor = connection.cursor()\n",
    "query = \"SELECT * FROM matches\"\n",
    "\n",
    "pd.read_sql(query, connection)"
   ]
  },
  {
   "cell_type": "code",
   "execution_count": 4,
   "metadata": {},
   "outputs": [],
   "source": [
    "connection = mysql.connector.connect(host=endpoint, database='leaguedb', user=username, password=password)\n",
    "cursor = connection.cursor()\n",
    "query = '''ALTER TABLE matches RENAME TO matchIDs;'''\n",
    "cursor.execute(query)"
   ]
  },
  {
   "cell_type": "code",
   "execution_count": null,
   "metadata": {},
   "outputs": [],
   "source": []
  }
 ],
 "metadata": {
  "kernelspec": {
   "display_name": "Python 3.8.2 64-bit",
   "language": "python",
   "name": "python3"
  },
  "language_info": {
   "codemirror_mode": {
    "name": "ipython",
    "version": 3
   },
   "file_extension": ".py",
   "mimetype": "text/x-python",
   "name": "python",
   "nbconvert_exporter": "python",
   "pygments_lexer": "ipython3",
   "version": "3.8.2"
  },
  "orig_nbformat": 4,
  "vscode": {
   "interpreter": {
    "hash": "570feb405e2e27c949193ac68f46852414290d515b0ba6e5d90d076ed2284471"
   }
  }
 },
 "nbformat": 4,
 "nbformat_minor": 2
}
